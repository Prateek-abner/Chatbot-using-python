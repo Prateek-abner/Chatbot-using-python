{
 "cells": [
  {
   "cell_type": "code",
   "execution_count": null,
   "id": "50fd265a-e57c-4ec2-8c35-d8eeb95bee41",
   "metadata": {
    "tags": []
   },
   "outputs": [
    {
     "name": "stdout",
     "output_type": "stream",
     "text": [
      "Hello! I'm your friendly chatbot. Type 'quit' to exit.\n"
     ]
    },
    {
     "name": "stdin",
     "output_type": "stream",
     "text": [
      "You:  jj\n"
     ]
    },
    {
     "name": "stdout",
     "output_type": "stream",
     "text": [
      "Chatbot: I'm sorry, but that's out of my dictionary. Let's talk about something else.\n"
     ]
    }
   ],
   "source": [
    "import nltk\n",
    "from nltk.chat.util import Chat, reflections\n",
    "\n",
    "def start_chat():\n",
    "    print(\"Hello! I'm your friendly chatbot. Type 'quit' to exit.\")\n",
    "\n",
    "    basic_pattern = [\n",
    "        (r'hello', ['Hi there!', 'Hello!']),\n",
    "        (r'how are you', ['I am good, thank you.', 'I am doing well.']),\n",
    "    ]\n",
    "\n",
    "    extended_patterns = [\n",
    "        (r'hi|hello|hey', ['Hi there!', 'Hello this side pp!', 'Hey!']),\n",
    "        (r'how are you', ['I am good, thank you. How about you?', 'I am doing well. How are you?']),\n",
    "        (r'fine|good|well', ['Thats great!', 'Awesome!', 'Glad to hear that.']),\n",
    "        (r'bye|quit', ['Goodbye!', 'Have a great day!', 'See you later!']),\n",
    "        (r'your name|name', ['I am a chatbot. You can call me PAPU.']),\n",
    "        (r'mobile no|contact', ['9938750075']),\n",
    "        (r'abuse', ['I encourage polite conversations. Please refrain from using abusive language.']),\n",
    "        (r'creator|created by|urs name', ['PRATEEK']),\n",
    "    ]\n",
    "\n",
    "    all_patterns = basic_pattern + extended_patterns\n",
    "\n",
    "    chatbot = Chat(all_patterns, reflections)\n",
    "\n",
    "    while True:\n",
    "        user_input = input(\"You: \")\n",
    "\n",
    "        if not user_input.strip():\n",
    "            print(\"Chatbot: Please enter something.\")\n",
    "            continue\n",
    "\n",
    "        if user_input.lower() == 'quit':\n",
    "            print(\"Chatbot: Goodbye!\")\n",
    "            break\n",
    "        else:\n",
    "            response = chatbot.respond(user_input)\n",
    "\n",
    "            if response is None:\n",
    "                print(\"Chatbot: I'm sorry, but that's out of my dictionary. Let's talk about something else.\")\n",
    "            else:\n",
    "                print(\"Chatbot:\", response)\n",
    "\n",
    "\n",
    "start_chat()\n"
   ]
  },
  {
   "cell_type": "code",
   "execution_count": null,
   "id": "5b7c52ea-dda1-4b29-bf12-8abd8dc206c0",
   "metadata": {},
   "outputs": [],
   "source": []
  }
 ],
 "metadata": {
  "kernelspec": {
   "display_name": "Python 3 (ipykernel)",
   "language": "python",
   "name": "python3"
  },
  "language_info": {
   "codemirror_mode": {
    "name": "ipython",
    "version": 3
   },
   "file_extension": ".py",
   "mimetype": "text/x-python",
   "name": "python",
   "nbconvert_exporter": "python",
   "pygments_lexer": "ipython3",
   "version": "3.11.5"
  }
 },
 "nbformat": 4,
 "nbformat_minor": 5
}
